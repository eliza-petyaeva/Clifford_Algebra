{
 "cells": [
  {
   "cell_type": "code",
   "execution_count": null,
   "metadata": {},
   "outputs": [],
   "source": [
    "import warnings\n",
    "\n",
    "def fxn():\n",
    "    warnings.warn(\"deprecated\", DeprecationWarning)\n",
    "\n",
    "with warnings.catch_warnings():\n",
    "    warnings.simplefilter(\"ignore\")\n",
    "    fxn()\n",
    "    \n",
    "import numpy as np\n",
    "import pandas as pd\n",
    "import cmath\n",
    "from numpy import pi"
   ]
  },
  {
   "cell_type": "code",
   "execution_count": 194,
   "metadata": {},
   "outputs": [],
   "source": [
    "from sklearn.model_selection import train_test_split\n",
    "np.random.seed(12345)\n",
    "\n",
    "# сделать w_0\n",
    "data_r = np.random.uniform(-2,2,10000)\n",
    "data_i = np.random.uniform(-4,4,10000)\n",
    "data_new = np.array(list(map(lambda x, y: complex(x,y), data_r, data_i)))\n",
    "\n",
    "data_new = data_new.reshape(10, 1000)\n",
    "data_w = pd.DataFrame(data_new).T\n",
    "\n",
    "\n",
    "condition_r = abs(data_w[3] + data_w[7] / data_w[6] ** 2 - data_w[1]) >= 3\n",
    "condition_i = abs(data_w[3]**3 - data_w[7] * data_w[6] * 2 + data_w[1] / data_w[8]) >= 13\n",
    "\n",
    "# condition_r = abs(data_w[3] + data_w[7]) >= 3\n",
    "# condition_i = abs(data_w[4] - 2 * data_w[2]) <= 6\n",
    "\n",
    "y_r = np.where(condition_r, -1, 1)\n",
    "\n",
    "y_i = np.where(condition_i, -1, 1)\n",
    "\n",
    "data_w['y'] = np.array(list(map(lambda x, y: complex(x,y), y_r, y_i)))\n",
    "X = data_w.drop(['y'], axis=1)\n",
    "X_train, X_test, y_train, y_test = train_test_split(X, data_w['y'], test_size=0.3, random_state=10)"
   ]
  },
  {
   "cell_type": "code",
   "execution_count": 195,
   "metadata": {},
   "outputs": [],
   "source": [
    "x_R = np.real(X_train).T\n",
    "x_I = np.imag(X_train).T\n",
    "y_R = np.real(y_train)\n",
    "y_I = np.imag(y_train)"
   ]
  },
  {
   "cell_type": "markdown",
   "metadata": {},
   "source": [
    "## CVXOPT"
   ]
  },
  {
   "cell_type": "code",
   "execution_count": 196,
   "metadata": {},
   "outputs": [],
   "source": [
    "#!pip install cvxopt\n",
    "from cvxopt import solvers\n",
    "from cvxopt import matrix"
   ]
  },
  {
   "cell_type": "code",
   "execution_count": 198,
   "metadata": {},
   "outputs": [],
   "source": [
    "l = len(X_train)\n",
    "lamda = 0.2\n",
    "H_RR = x_R.T @ x_R\n",
    "H_II = x_I.T @ x_I\n",
    "H_RI = x_R.T @ x_I\n",
    "H_IR = x_I.T @ x_R\n",
    "H = np.block([[H_RR + H_II, H_RI - H_IR], [H_IR - H_RI, H_RR + H_II]])\n",
    "Y = np.block([[np.diag(y_R), np.zeros((l,l))], [np.zeros((l,l)), np.diag(y_I)]])\n",
    "P = Y @ H @ Y"
   ]
  },
  {
   "cell_type": "code",
   "execution_count": 199,
   "metadata": {},
   "outputs": [],
   "source": [
    "q = -np.ones((2*l, 1))\n",
    "G = np.block([[-np.identity(2*l)], [np.identity(2*l)]])\n",
    "h = np.block([[np.zeros((2*l, 1))], [lamda * np.ones((2*l, 1))]])\n",
    "A = np.block([[y_R, np.zeros(l)], [np.zeros(l), y_I]])\n",
    "b = np.array([0,0])"
   ]
  },
  {
   "cell_type": "code",
   "execution_count": 200,
   "metadata": {},
   "outputs": [
    {
     "name": "stdout",
     "output_type": "stream",
     "text": [
      "     pcost       dcost       gap    pres   dres\n",
      " 0: -7.4815e+02 -6.5396e+02  9e+03  1e+01  2e-13\n",
      " 1: -1.9688e+02 -6.0143e+02  7e+02  4e-01  2e-13\n",
      " 2: -1.9066e+02 -2.4626e+02  6e+01  7e-03  7e-14\n",
      " 3: -1.9800e+02 -2.0777e+02  1e+01  7e-04  7e-14\n",
      " 4: -1.9919e+02 -1.9929e+02  1e-01  8e-06  7e-14\n",
      " 5: -1.9920e+02 -1.9920e+02  1e-03  8e-08  7e-14\n",
      " 6: -1.9920e+02 -1.9920e+02  1e-05  8e-10  7e-14\n",
      "Optimal solution found.\n"
     ]
    }
   ],
   "source": [
    "P = matrix(P)\n",
    "q = matrix(q)\n",
    "G = matrix(G)\n",
    "h = matrix(h)\n",
    "A = matrix(A)\n",
    "b = matrix(b, tc='d')\n",
    "\n",
    "sol = solvers.qp(P,q,G,h,A,b)"
   ]
  },
  {
   "cell_type": "code",
   "execution_count": 201,
   "metadata": {},
   "outputs": [],
   "source": [
    "alphas = np.array(sol['x']).reshape(-1)\n",
    "a_R = alphas[:l]\n",
    "a_I = alphas[l:]"
   ]
  },
  {
   "cell_type": "code",
   "execution_count": 202,
   "metadata": {},
   "outputs": [
    {
     "data": {
      "text/plain": [
       "(10, 700)"
      ]
     },
     "execution_count": 202,
     "metadata": {},
     "output_type": "execute_result"
    }
   ],
   "source": [
    "x_R.shape"
   ]
  },
  {
   "cell_type": "code",
   "execution_count": 203,
   "metadata": {},
   "outputs": [],
   "source": [
    "a_R = alphas[:l]\n",
    "a_I = alphas[l:]"
   ]
  },
  {
   "cell_type": "code",
   "execution_count": 204,
   "metadata": {},
   "outputs": [
    {
     "data": {
      "text/plain": [
       "(10, 700)"
      ]
     },
     "execution_count": 204,
     "metadata": {},
     "output_type": "execute_result"
    }
   ],
   "source": [
    "x_R.shape"
   ]
  },
  {
   "cell_type": "code",
   "execution_count": 205,
   "metadata": {},
   "outputs": [
    {
     "data": {
      "text/plain": [
       "(700,)"
      ]
     },
     "execution_count": 205,
     "metadata": {},
     "output_type": "execute_result"
    }
   ],
   "source": [
    "a_R.shape"
   ]
  },
  {
   "cell_type": "code",
   "execution_count": 206,
   "metadata": {},
   "outputs": [],
   "source": [
    "w_R = (y_R * a_R * x_R).sum(axis=1) + (y_I * a_I * x_I).sum(axis=1)\n",
    "w_I = (y_R * a_R * x_I).sum(axis=1) - (y_I * a_I * x_R).sum(axis=1)"
   ]
  },
  {
   "cell_type": "code",
   "execution_count": 207,
   "metadata": {},
   "outputs": [],
   "source": [
    "sv_R = np.where((a_R > 0) & (a_R < lamda))[0]\n",
    "sv_I = np.where((a_I > 0) & (a_I < lamda))[0]"
   ]
  },
  {
   "cell_type": "code",
   "execution_count": 208,
   "metadata": {},
   "outputs": [],
   "source": [
    "b_R = (y_R[sv_R] - w_R @ x_R[:, sv_R] - w_I @ x_I[:, sv_R]).sum() / len(sv_R)\n",
    "b_I = (y_I[sv_I] - w_R @ x_I[:, sv_I] + w_I @ x_R[:, sv_I]).sum() / len(sv_I)"
   ]
  },
  {
   "cell_type": "markdown",
   "metadata": {},
   "source": [
    "$\\sum_{j=1}^{l}\\left(\\alpha_{j} \\circ y_{j}\\right)\\left(\\mathbf{x}_{j}^{H} \\mathbf{x}\\right)+b = \\sum_{j=1}^{l} [\\operatorname{Re}(\\alpha_{j}) \\operatorname{Re}(y_j)+i \\operatorname{Im}(\\alpha_{j}) \\operatorname{Im}(y_j) ](\\mathbf{x}_{j}^{H} \\mathbf{x})+b$ "
   ]
  },
  {
   "cell_type": "code",
   "execution_count": 209,
   "metadata": {},
   "outputs": [
    {
     "name": "stderr",
     "output_type": "stream",
     "text": [
      "/var/folders/5b/j4k5qtvx2j7b9nzkp2clls4c0000gp/T/ipykernel_36148/835742473.py:4: DeprecationWarning: `np.complex` is a deprecated alias for the builtin `complex`. To silence this warning, use `complex` by itself. Doing this will not modify any behavior and is safe. If you specifically wanted the numpy scalar type, use `np.complex128` here.\n",
      "Deprecated in NumPy 1.20; for more details and guidance: https://numpy.org/devdocs/release/1.20.0-notes.html#deprecations\n",
      "  y_pred += np.complex(a_R[i] * y_R[i], a_I[i] * y_I[i]) \\\n",
      "/var/folders/5b/j4k5qtvx2j7b9nzkp2clls4c0000gp/T/ipykernel_36148/835742473.py:5: DeprecationWarning: `np.complex` is a deprecated alias for the builtin `complex`. To silence this warning, use `complex` by itself. Doing this will not modify any behavior and is safe. If you specifically wanted the numpy scalar type, use `np.complex128` here.\n",
      "Deprecated in NumPy 1.20; for more details and guidance: https://numpy.org/devdocs/release/1.20.0-notes.html#deprecations\n",
      "  * np.conj(X_train.iloc[i]) @ X_test.T + np.complex(b_R, b_I)\n"
     ]
    }
   ],
   "source": [
    "y_pred = np.zeros(len(X_test),dtype=np.complex_)\n",
    "\n",
    "for i in range(len(X_train)):\n",
    "    y_pred += np.complex(a_R[i] * y_R[i], a_I[i] * y_I[i]) \\\n",
    "    * np.conj(X_train.iloc[i]) @ X_test.T + np.complex(b_R, b_I)\n",
    "    \n",
    "y_pred_fin_= np.zeros(len(X_test),dtype=np.complex_)\n",
    "y_pred_fin_.real = np.sign(np.real(y_pred))\n",
    "y_pred_fin_.imag = np.sign(np.imag(y_pred))"
   ]
  },
  {
   "cell_type": "code",
   "execution_count": 222,
   "metadata": {},
   "outputs": [],
   "source": [
    "def to_degrees(z):\n",
    "    return np.degrees(cmath.phase(z) + 2 * pi) % 360\n",
    "\n",
    "def class_definder(coordinate):\n",
    "    answer = to_degrees(coordinate)\n",
    "    if answer >= 0 and answer < 90:\n",
    "        return 1+1j\n",
    "    elif answer >= 90 and answer < 180:\n",
    "        return -1+1j\n",
    "    elif answer >= 180 and answer < 270:\n",
    "        return -1-1j\n",
    "    else :\n",
    "        return 1-1j"
   ]
  },
  {
   "cell_type": "code",
   "execution_count": 223,
   "metadata": {},
   "outputs": [],
   "source": [
    "y_pred_fin = []\n",
    "for element in y_pred:\n",
    "    y_pred_fin.append(class_definder(element))    "
   ]
  },
  {
   "cell_type": "code",
   "execution_count": 224,
   "metadata": {},
   "outputs": [
    {
     "data": {
      "text/plain": [
       "0j         115\n",
       "(-2+0j)     88\n",
       "-2j         54\n",
       "(-2-2j)     43\n",
       "Name: y, dtype: int64"
      ]
     },
     "execution_count": 224,
     "metadata": {},
     "output_type": "execute_result"
    }
   ],
   "source": [
    "(y_pred_fin - y_test).value_counts()"
   ]
  },
  {
   "cell_type": "code",
   "execution_count": 225,
   "metadata": {},
   "outputs": [
    {
     "data": {
      "text/plain": [
       "0j         115\n",
       "(-2+0j)     88\n",
       "-2j         54\n",
       "(-2-2j)     43\n",
       "Name: y, dtype: int64"
      ]
     },
     "execution_count": 225,
     "metadata": {},
     "output_type": "execute_result"
    }
   ],
   "source": [
    "(y_pred_fin_ - y_test).value_counts()"
   ]
  },
  {
   "cell_type": "code",
   "execution_count": 214,
   "metadata": {},
   "outputs": [
    {
     "data": {
      "text/plain": [
       "0.38333333333333336"
      ]
     },
     "execution_count": 214,
     "metadata": {},
     "output_type": "execute_result"
    }
   ],
   "source": [
    "115 / 300"
   ]
  }
 ],
 "metadata": {
  "kernelspec": {
   "display_name": "Python 3 (ipykernel)",
   "language": "python",
   "name": "python3"
  },
  "language_info": {
   "codemirror_mode": {
    "name": "ipython",
    "version": 3
   },
   "file_extension": ".py",
   "mimetype": "text/x-python",
   "name": "python",
   "nbconvert_exporter": "python",
   "pygments_lexer": "ipython3",
   "version": "3.9.4"
  }
 },
 "nbformat": 4,
 "nbformat_minor": 4
}

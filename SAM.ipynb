{
  "nbformat": 4,
  "nbformat_minor": 0,
  "metadata": {
    "colab": {
      "name": "SAM.ipynb",
      "provenance": []
    },
    "kernelspec": {
      "name": "python3",
      "display_name": "Python 3"
    },
    "language_info": {
      "name": "python"
    }
  },
  "cells": [
    {
      "cell_type": "markdown",
      "metadata": {
        "id": "VyuUnKehaJLG"
      },
      "source": [
        "# SAM"
      ]
    },
    {
      "cell_type": "code",
      "metadata": {
        "id": "i-xBaYIlK5xi"
      },
      "source": [
        "import cmath\n",
        "import numpy as np\n",
        "from numpy import pi\n",
        "import pandas as pd\n",
        "from typing import List, Iterable\n",
        "import pandas as pd\n",
        "from sklearn import metrics\n",
        "import matplotlib.pyplot as plt\n",
        "import seaborn as sns"
      ],
      "execution_count": null,
      "outputs": []
    },
    {
      "cell_type": "code",
      "metadata": {
        "colab": {
          "base_uri": "https://localhost:8080/"
        },
        "id": "ZtQuacmbbyrU",
        "outputId": "0dc51c0c-626b-45c8-e274-6bfb8f817da5"
      },
      "source": [
        "# значение арктангенса в градусах от 0 до 360\n",
        "np.degrees(np.arctan(6/5) + 2*pi) % 360\n",
        "# аналогичный рез, только уже удобнее с комплексными\n",
        "z = complex(5,6)\n",
        "np.degrees(cmath.phase(z) + 2*pi) % 360\n",
        "# реальная и мнимая части\n",
        "print (z.real)\n",
        "print (z.imag)"
      ],
      "execution_count": null,
      "outputs": [
        {
          "output_type": "stream",
          "text": [
            "5.0\n",
            "6.0\n"
          ],
          "name": "stdout"
        }
      ]
    },
    {
      "cell_type": "markdown",
      "metadata": {
        "id": "qI3in5hX6c9O"
      },
      "source": [
        "SAM - support angle machine\\\n",
        "\n",
        "\\begin{align}\n",
        "\\ w =\n",
        "  \\begin{cases}\n",
        "    w - lr  (2  \\lambda  w)       & \\quad \\text{if True}\\\\\n",
        "    w - lr  (({x_I * y_I},{x_R * y_R})-2  \\lambda  w_0), w_0=w_0 -lr*y_{idx}   & \\quad \\text{Else}\n",
        "  \\end{cases}\n",
        "\\\n",
        "\\end{align}\n",
        "\n",
        "Condition:\n",
        "\\begin{align}\n",
        "\\\\|arctan{(\\frac{y_I}{y_R})} - arctan{(\\frac{X_I * w_I}{X_R * w_R} - w_0)} |\\leq \\frac {360}{quantity_{classes} * 2}\n",
        "\\end{align}\n",
        "\n",
        "Сам алгоритм обучения выглядит схожим образом (если идти через градиентный спуск, то как бе без разницы берешь ты производную от переменной помноженной на действительное или комплексное число)\n",
        "\n",
        "Загвоздочка заключается именно в том, что мы все же не используем комплексные по максимому (то есть избегаем свойства i^2 = -1 - при обучении алгоритма появилась бы серьезная путаница со знаками), да и, в целом, отходим от разделения классов гиперплоскостью. Поскольку у нас теперь все просходит в комплексном пространстве, мы можем взять за основу саму комплексную плоскость, равномерно поделить ее на классы и домножать объекты на веса таким образом, чтобы УГОЛ ИТОГОВОГО ЗНАЧЕНИЯ БЫЛ НАИБЛИЖАЙШИМ \n",
        "К УГЛУ НУЖНОГО КЛАССА, воть.\n",
        "\n",
        "То есть по сути в условии мы требуем, чтобы разница между углом нужного класса и углом получившегося ответа была в нужном диапозоне"
      ]
    },
    {
      "cell_type": "code",
      "metadata": {
        "id": "Ymcif1eRuhFX"
      },
      "source": [
        "class SAM:\n",
        "\n",
        "    def __init__(self, learning_rate=0.001, lambda_param=0.01, n_iters=1000):\n",
        "        self.lr = learning_rate\n",
        "        self.lambda_param = lambda_param\n",
        "        self.n_iters = n_iters\n",
        "        self.w = None\n",
        "        self.b = None\n",
        "        self.classes = None\n",
        "\n",
        "    def to_degrees(z):\n",
        "      return np.degrees(cmath.phase(z) + 2 * pi) % 360\n",
        "\n",
        "    def find_class(X_array, classes_list):\n",
        "      array_angles = list(map(lambda z: to_degrees(z), classes_list))\n",
        "      prediction = to_degrees(X_array)\n",
        "      res = abs(np.array(array_angles) - prediction)\n",
        "      class_ = np.where(res == np.min(res))\n",
        "      return classes_list[class_]\n",
        "\n",
        "\n",
        "    def fit(self, X, y):\n",
        "        n_samples, n_features = X.shape\n",
        "\n",
        "\n",
        "        # написать для произвольного количества классов\n",
        "        #y_ = np.where(y <= 0, -1, 1)\n",
        "        # Допустим у нас все классы изначально правильно написаны\n",
        "        \n",
        "        self.classes = np.unique(y)\n",
        "        self.w = np.zeros(n_features)\n",
        "        self.b = 0\n",
        "\n",
        "        classes_q = len(self.classes)\n",
        "        angle_turn = 360 / (classes_q * 2)        \n",
        "\n",
        "\n",
        "        for _ in range(self.n_iters):\n",
        "            for idx, x_i in enumerate(X):\n",
        "              #изменить условие DONE\n",
        "                condition = abs(to_degrees(y_[idx]) - \n",
        "                to_degrees(complex((np.dot(np.real(x_i), self.w.real.T) - self.b.real), \n",
        "                            np.dot(np.imag(x_i), self.w.imag.T) - self.b.imag))) <= angle_turn\n",
        "                if condition:\n",
        "                  # ----------------------\n",
        "                  # тут понять, что делать с реальными и комплексными частями, чтобы уменьшить угол\n",
        "                  # думаю у мнимой части нужно только, чтобы знак совпадал (тогда нужно задуматься, как делить плоскость), а оптимизировать уже реальную часть\n",
        "                  # ----------------------\n",
        "                    self.w -= self.lr * (2 * self.lambda_param * self.w)\n",
        "                else:\n",
        "                    self.w -= self.lr * (2 * self.lambda_param * self.w - np.dot(x_i, y_[idx]))\n",
        "                    self.b -= self.lr * y_[idx]      \n",
        "\n",
        "\n",
        "    def predict(self, X):\n",
        "\n",
        "        # находим комплексные значения\n",
        "        res_real = list(map(lambda x: np.dot(np.real(X), self.w.real.T) - self.b.real, X))\n",
        "        res_imag = list(map(lambda x: np.dot(np.imag(X), self.w.imag.T) - self.b.imag, X))\n",
        "        complex_res = list(map(lambda x, y: complex(x, y), res_real, res_imag))\n",
        "\n",
        "        #узнать наименьшую разницу между ответами и классами по углу # DONE\n",
        "        res = list(map(lambda x, y: find_class(x, y), complex_res, self.classes))\n",
        "        \n",
        "        return res"
      ],
      "execution_count": null,
      "outputs": []
    },
    {
      "cell_type": "code",
      "metadata": {
        "colab": {
          "base_uri": "https://localhost:8080/"
        },
        "id": "binpfoH7k5ZR",
        "outputId": "c5f7b386-cbb6-4a70-9500-86283680890e"
      },
      "source": [
        "np.angle(-1-8j)\n",
        "\n",
        "#x = np.array([-1+8j, 1-20j])\n",
        "#b = np.array([-2+10j, -1-2j])\n",
        "#(np.angle(x) - np.angle(b))**2\n",
        "\n",
        "def to_degrees(z):\n",
        "  return np.degrees(np.angle(z) + 2 * pi) % 360\n",
        "\n",
        "def to_degrees_x_w(X, w):\n",
        "  i = np.dot(np.imag(X), np.imag(w))\n",
        "  r = np.dot(np.real(X), np.real(w))\n",
        "  return np.degrees(np.arctan(i/r) + 2*pi) % 360\n",
        "to_degrees(-1-8j)"
      ],
      "execution_count": null,
      "outputs": [
        {
          "output_type": "execute_result",
          "data": {
            "text/plain": [
              "262.8749836510982"
            ]
          },
          "metadata": {},
          "execution_count": 5
        }
      ]
    },
    {
      "cell_type": "markdown",
      "metadata": {
        "id": "DoN5sw4BaY5_"
      },
      "source": [
        "Суть решения задач минимизации с условиями:\\\n",
        "\n",
        "1) **Задача Лагранжа** - составляем задачу минимизации и добавляем условия, решение через линейное программирование\\\n",
        "2) **Градиентный спуск** - составляем задачу минимизации и добавляем условия, ВЫРАЖАЕМ все условия в равенства и подставляем их в задачу минимизации. Берем градиент и считаем по формуле градиентного спуска"
      ]
    },
    {
      "cell_type": "code",
      "metadata": {
        "id": "oKN_ZGDeq-3V"
      },
      "source": [
        "from sklearn.model_selection import train_test_split\n",
        "np.random.seed(12345)\n",
        "\n",
        "# сделать w_0\n",
        "\n",
        "data_r = np.random.uniform(-2,2,10000)\n",
        "data_i = np.random.uniform(-4,4,10000)\n",
        "data_new = np.array(list(map(lambda x, y: complex(x,y), data_r, data_i)))\n",
        "\n",
        "data_new = np.append(np.ones(1000) + 1j, data_new, 0)\n",
        "data_new = data_new.reshape(11, 1000)\n",
        "data_w = pd.DataFrame(data_new).T\n",
        "\n",
        "\n",
        "condition_r = abs(data_w[3] + data_w[7] / data_w[6] ** 2 - data_w[1]) >= 3\n",
        "condition_i = abs(data_w[3]**3 - data_w[7] * data_w[6] * 2 + data_w[1] / data_w[8]) >= 13\n",
        "\n",
        "# condition_r = abs(data_w[3] + data_w[7]) >= 3\n",
        "# condition_i = abs(data_w[4] - 2 * data_w[2]) <= 6\n",
        "\n",
        "y_r = np.where(condition_r, -1, 1)\n",
        "\n",
        "y_i = np.where(condition_i, -1, 1)\n",
        "\n",
        "data_w['y'] = np.array(list(map(lambda x, y: complex(x,y), y_r, y_i)))\n",
        "X = data_w.drop(['y'], axis=1)\n",
        "X_train, X_test, y_train, y_test = train_test_split(X, data_w['y'], test_size=0.3, random_state=10)\n"
      ],
      "execution_count": null,
      "outputs": []
    },
    {
      "cell_type": "code",
      "metadata": {
        "colab": {
          "base_uri": "https://localhost:8080/",
          "height": 456
        },
        "id": "Uc3UVBcD6NsY",
        "outputId": "a3f64953-52ed-4902-f66e-3916ef3c2785"
      },
      "source": [
        "data_w"
      ],
      "execution_count": null,
      "outputs": [
        {
          "output_type": "execute_result",
          "data": {
            "text/html": [
              "<div>\n",
              "<style scoped>\n",
              "    .dataframe tbody tr th:only-of-type {\n",
              "        vertical-align: middle;\n",
              "    }\n",
              "\n",
              "    .dataframe tbody tr th {\n",
              "        vertical-align: top;\n",
              "    }\n",
              "\n",
              "    .dataframe thead th {\n",
              "        text-align: right;\n",
              "    }\n",
              "</style>\n",
              "<table border=\"1\" class=\"dataframe\">\n",
              "  <thead>\n",
              "    <tr style=\"text-align: right;\">\n",
              "      <th></th>\n",
              "      <th>0</th>\n",
              "      <th>1</th>\n",
              "      <th>2</th>\n",
              "      <th>3</th>\n",
              "      <th>4</th>\n",
              "      <th>5</th>\n",
              "      <th>6</th>\n",
              "      <th>7</th>\n",
              "      <th>8</th>\n",
              "      <th>9</th>\n",
              "      <th>10</th>\n",
              "      <th>y</th>\n",
              "    </tr>\n",
              "  </thead>\n",
              "  <tbody>\n",
              "    <tr>\n",
              "      <th>0</th>\n",
              "      <td>1.000000+1.000000j</td>\n",
              "      <td>1.718464+0.981627j</td>\n",
              "      <td>1.190578+0.013602j</td>\n",
              "      <td>-0.059319+1.311598j</td>\n",
              "      <td>1.705195-2.480726j</td>\n",
              "      <td>1.291807-0.317956j</td>\n",
              "      <td>0.636224-0.631071j</td>\n",
              "      <td>-0.875551-1.028746j</td>\n",
              "      <td>-0.580340-3.627288j</td>\n",
              "      <td>1.035125-1.796036j</td>\n",
              "      <td>1.685074+3.613994j</td>\n",
              "      <td>1.000000+1.000000j</td>\n",
              "    </tr>\n",
              "    <tr>\n",
              "      <th>1</th>\n",
              "      <td>1.000000+1.000000j</td>\n",
              "      <td>-0.734498-3.318712j</td>\n",
              "      <td>0.891083-3.948494j</td>\n",
              "      <td>-0.003116-3.171931j</td>\n",
              "      <td>1.251443-1.285652j</td>\n",
              "      <td>-0.778911-2.341820j</td>\n",
              "      <td>0.418259+1.522316j</td>\n",
              "      <td>1.429454-3.033519j</td>\n",
              "      <td>1.337281-2.376406j</td>\n",
              "      <td>1.098860-0.770936j</td>\n",
              "      <td>-0.414090+0.048036j</td>\n",
              "      <td>1.000000-1.000000j</td>\n",
              "    </tr>\n",
              "    <tr>\n",
              "      <th>2</th>\n",
              "      <td>1.000000+1.000000j</td>\n",
              "      <td>-1.264325-2.696190j</td>\n",
              "      <td>1.203564-0.258908j</td>\n",
              "      <td>1.250580+1.604152j</td>\n",
              "      <td>0.994786+0.580474j</td>\n",
              "      <td>0.392131-3.715118j</td>\n",
              "      <td>-1.630219+2.146780j</td>\n",
              "      <td>-1.985138+3.345818j</td>\n",
              "      <td>-0.541701+3.054576j</td>\n",
              "      <td>1.687473+1.393819j</td>\n",
              "      <td>1.579581-1.447367j</td>\n",
              "      <td>-1.000000-1.000000j</td>\n",
              "    </tr>\n",
              "    <tr>\n",
              "      <th>3</th>\n",
              "      <td>1.000000+1.000000j</td>\n",
              "      <td>-1.181759+0.454291j</td>\n",
              "      <td>1.886731-1.592856j</td>\n",
              "      <td>1.880429+3.752134j</td>\n",
              "      <td>-1.373159+2.749861j</td>\n",
              "      <td>0.990555-2.603910j</td>\n",
              "      <td>-0.191413-2.741448j</td>\n",
              "      <td>-0.152287-0.756293j</td>\n",
              "      <td>-0.135190+3.206588j</td>\n",
              "      <td>-0.036158-1.363823j</td>\n",
              "      <td>-1.184810-1.647515j</td>\n",
              "      <td>-1.000000-1.000000j</td>\n",
              "    </tr>\n",
              "    <tr>\n",
              "      <th>4</th>\n",
              "      <td>1.000000+1.000000j</td>\n",
              "      <td>0.270900+2.426351j</td>\n",
              "      <td>1.510000+1.201727j</td>\n",
              "      <td>-0.242279+0.894871j</td>\n",
              "      <td>-1.107074+3.956199j</td>\n",
              "      <td>1.564285-3.474959j</td>\n",
              "      <td>1.253537-0.972962j</td>\n",
              "      <td>-0.285058-3.223589j</td>\n",
              "      <td>-1.120123+0.612423j</td>\n",
              "      <td>0.228499+2.631181j</td>\n",
              "      <td>1.937589+2.442136j</td>\n",
              "      <td>1.000000+1.000000j</td>\n",
              "    </tr>\n",
              "    <tr>\n",
              "      <th>...</th>\n",
              "      <td>...</td>\n",
              "      <td>...</td>\n",
              "      <td>...</td>\n",
              "      <td>...</td>\n",
              "      <td>...</td>\n",
              "      <td>...</td>\n",
              "      <td>...</td>\n",
              "      <td>...</td>\n",
              "      <td>...</td>\n",
              "      <td>...</td>\n",
              "      <td>...</td>\n",
              "      <td>...</td>\n",
              "    </tr>\n",
              "    <tr>\n",
              "      <th>995</th>\n",
              "      <td>1.000000+1.000000j</td>\n",
              "      <td>-1.983003-0.881949j</td>\n",
              "      <td>-0.007335-3.432416j</td>\n",
              "      <td>-0.730972-2.974275j</td>\n",
              "      <td>0.677168+2.032576j</td>\n",
              "      <td>-0.327264+1.783205j</td>\n",
              "      <td>-0.560829-2.909557j</td>\n",
              "      <td>1.116166-2.609633j</td>\n",
              "      <td>0.894242-0.445881j</td>\n",
              "      <td>-0.456554+0.501950j</td>\n",
              "      <td>0.926951+3.772348j</td>\n",
              "      <td>1.000000-1.000000j</td>\n",
              "    </tr>\n",
              "    <tr>\n",
              "      <th>996</th>\n",
              "      <td>1.000000+1.000000j</td>\n",
              "      <td>0.239426+2.339018j</td>\n",
              "      <td>0.390049+1.633942j</td>\n",
              "      <td>1.004906+0.584963j</td>\n",
              "      <td>0.635468+2.794657j</td>\n",
              "      <td>-1.373098+0.679753j</td>\n",
              "      <td>1.094913-1.112487j</td>\n",
              "      <td>-1.110485-2.465620j</td>\n",
              "      <td>-1.768333-3.471019j</td>\n",
              "      <td>1.809229-1.862526j</td>\n",
              "      <td>0.555430+3.215737j</td>\n",
              "      <td>1.000000+1.000000j</td>\n",
              "    </tr>\n",
              "    <tr>\n",
              "      <th>997</th>\n",
              "      <td>1.000000+1.000000j</td>\n",
              "      <td>1.007119+0.095932j</td>\n",
              "      <td>0.174239+3.039033j</td>\n",
              "      <td>0.503668-3.485937j</td>\n",
              "      <td>-1.298118+2.717122j</td>\n",
              "      <td>-1.264037-1.907788j</td>\n",
              "      <td>1.965116+0.011806j</td>\n",
              "      <td>0.605099-2.810358j</td>\n",
              "      <td>-1.628874+0.994278j</td>\n",
              "      <td>0.402053-0.128539j</td>\n",
              "      <td>-1.923738+2.594204j</td>\n",
              "      <td>-1.000000-1.000000j</td>\n",
              "    </tr>\n",
              "    <tr>\n",
              "      <th>998</th>\n",
              "      <td>1.000000+1.000000j</td>\n",
              "      <td>-0.439821+0.650749j</td>\n",
              "      <td>1.792094-2.834797j</td>\n",
              "      <td>-0.158797-2.317654j</td>\n",
              "      <td>0.936549+0.436136j</td>\n",
              "      <td>0.955026-1.948540j</td>\n",
              "      <td>-0.671616+0.674778j</td>\n",
              "      <td>-1.426953-1.087686j</td>\n",
              "      <td>0.757893-3.473710j</td>\n",
              "      <td>1.432231+1.816265j</td>\n",
              "      <td>-0.962152-3.702996j</td>\n",
              "      <td>-1.000000+1.000000j</td>\n",
              "    </tr>\n",
              "    <tr>\n",
              "      <th>999</th>\n",
              "      <td>1.000000+1.000000j</td>\n",
              "      <td>-0.765579+1.654082j</td>\n",
              "      <td>0.515803-2.955942j</td>\n",
              "      <td>-1.216133+2.187979j</td>\n",
              "      <td>-1.729626-2.895529j</td>\n",
              "      <td>0.788870-2.489114j</td>\n",
              "      <td>0.587672-0.758389j</td>\n",
              "      <td>-1.138826+3.314533j</td>\n",
              "      <td>-0.640009+3.494345j</td>\n",
              "      <td>-1.866350+1.076516j</td>\n",
              "      <td>1.041511-2.196337j</td>\n",
              "      <td>-1.000000-1.000000j</td>\n",
              "    </tr>\n",
              "  </tbody>\n",
              "</table>\n",
              "<p>1000 rows × 12 columns</p>\n",
              "</div>"
            ],
            "text/plain": [
              "                      0  ...                   y\n",
              "0    1.000000+1.000000j  ...  1.000000+1.000000j\n",
              "1    1.000000+1.000000j  ...  1.000000-1.000000j\n",
              "2    1.000000+1.000000j  ... -1.000000-1.000000j\n",
              "3    1.000000+1.000000j  ... -1.000000-1.000000j\n",
              "4    1.000000+1.000000j  ...  1.000000+1.000000j\n",
              "..                  ...  ...                 ...\n",
              "995  1.000000+1.000000j  ...  1.000000-1.000000j\n",
              "996  1.000000+1.000000j  ...  1.000000+1.000000j\n",
              "997  1.000000+1.000000j  ... -1.000000-1.000000j\n",
              "998  1.000000+1.000000j  ... -1.000000+1.000000j\n",
              "999  1.000000+1.000000j  ... -1.000000-1.000000j\n",
              "\n",
              "[1000 rows x 12 columns]"
            ]
          },
          "metadata": {},
          "execution_count": 4
        }
      ]
    },
    {
      "cell_type": "code",
      "metadata": {
        "id": "sKEg5ABDz9Wn"
      },
      "source": [
        "w_r = np.random.uniform(-2,2,10)\n",
        "w_i = np.random.uniform(-2,2,10)\n",
        "w = np.array(list(map(lambda x, y: complex(x,y), w_r, w_i)))\n",
        "w = np.append(np.array([1+1j]), w, 0)"
      ],
      "execution_count": null,
      "outputs": []
    },
    {
      "cell_type": "code",
      "metadata": {
        "colab": {
          "base_uri": "https://localhost:8080/"
        },
        "id": "ien6KuRoGGR6",
        "outputId": "70756fae-498d-4653-bca9-6a58e2eb2e07"
      },
      "source": [
        "w"
      ],
      "execution_count": null,
      "outputs": [
        {
          "output_type": "execute_result",
          "data": {
            "text/plain": [
              "array([ 1.        +1.j        , -1.71853575-0.19003469j,\n",
              "       -1.26864871+0.577966j  , -0.42293765+0.85981154j,\n",
              "       -1.74328298-0.75852645j, -1.97526777+1.44609314j,\n",
              "        0.51820057-1.92556717j,  1.99560079+0.41462441j,\n",
              "       -0.6057971 -0.95064584j, -0.75635045+1.37328534j,\n",
              "       -1.81844265-0.55542669j])"
            ]
          },
          "metadata": {
            "tags": []
          },
          "execution_count": 240
        }
      ]
    },
    {
      "cell_type": "code",
      "metadata": {
        "colab": {
          "base_uri": "https://localhost:8080/"
        },
        "id": "sHEwA-EK0jZq",
        "outputId": "81a03434-d8ea-4be0-ba46-d35e0b9bf563"
      },
      "source": [
        "np.linalg.norm(w)"
      ],
      "execution_count": null,
      "outputs": [
        {
          "output_type": "execute_result",
          "data": {
            "text/plain": [
              "4.933326081798542"
            ]
          },
          "metadata": {
            "tags": []
          },
          "execution_count": 104
        }
      ]
    },
    {
      "cell_type": "code",
      "metadata": {
        "colab": {
          "base_uri": "https://localhost:8080/"
        },
        "id": "X2NXqr3wzoRj",
        "outputId": "b2b24a1f-6cee-4635-f1b5-531150758b68"
      },
      "source": [
        "np.dot(np.real(y_train), np.dot(np.real(X_train), w))"
      ],
      "execution_count": null,
      "outputs": [
        {
          "output_type": "execute_result",
          "data": {
            "text/plain": [
              "251.05232913868724"
            ]
          },
          "metadata": {
            "tags": []
          },
          "execution_count": 106
        }
      ]
    },
    {
      "cell_type": "code",
      "metadata": {
        "id": "GDx1JbteDW__"
      },
      "source": [
        "def norm(v):\n",
        "  return np.sqrt(np.dot(np.real(v).T, np.real(v)) + np.dot(np.imag(v).T, np.imag(v)))\n",
        "def norm_x_w(X, w):\n",
        "  v_r = np.dot(np.real(X), np.real(w))\n",
        "  v_i = np.dot(np.imag(X), np.imag(w))\n",
        "  return np.sqrt(np.dot(v_r.T, v_r) + np.dot(v_i.T, v_i))"
      ],
      "execution_count": null,
      "outputs": []
    },
    {
      "cell_type": "code",
      "metadata": {
        "id": "PwGKmb8LsjkC"
      },
      "source": [
        "def calc_loss(X_train, y_train, w, lamb=0.1, mu=0.1):\n",
        "  answer = - sum_parts(X_train, y_train, w) / (norm(y_train)* norm_x_w(X_train, w)) + lamb * np.linalg.norm(np.real(w)) ** 2 + mu * np.linalg.norm(np.imag(w)) ** 2\n",
        "  return answer\n",
        "\n",
        "def sum_parts(X_train, y_train, w):\n",
        "  return (np.dot(np.real(y_train), np.dot(np.real(X_train), np.real(w))) + np.dot(np.imag(y_train), np.dot(np.imag(X_train), np.imag(w))))\n",
        "\n",
        "\n",
        "def calc_grad_r(X_train, y_train, w, lamb=0.1):\n",
        "  answer = - np.dot(np.real(y_train), np.real(X_train)) / ((norm(y_train)* norm_x_w(X_train, w))) - 2 * sum_parts(X_train, y_train, w) * np.dot(np.dot(np.real(X_train).T, np.real(X_train)), np.real(w)) / (norm(y_train) * (norm_x_w(X_train, w)) ** (4/3))\n",
        "  answer += lamb * np.real(w) / np.linalg.norm(np.real(w))\n",
        "  return answer\n",
        "\n",
        "def calc_grad_i(X_train, y_train, w, mu=0.1):\n",
        "  answer = - np.dot(np.imag(y_train), np.imag(X_train)) / ((norm(y_train)* norm_x_w(X_train, w))) - 2 * sum_parts(X_train, y_train, w) * np.dot(np.dot(np.imag(X_train).T, np.imag(X_train)), np.imag(w)) / (norm(y_train) * (norm_x_w(X_train, w)) ** (4/3))\n",
        "  answer += mu * np.imag(w) / np.linalg.norm(np.imag(w))\n",
        "  return answer\n",
        "\n",
        "def gradient_descent(X, y, w, n_iterations, w_list, lr=0.1):\n",
        "    w_list = []\n",
        "    for i in range(n_iterations):\n",
        "        gradient_r = calc_grad_r(X, y, w)\n",
        "        w = w - lr * gradient_r\n",
        "        gradient_i = calc_grad_i(X, y, w)\n",
        "        w = w - lr * gradient_i\n",
        "        w_list.append(w)\n",
        "    return w_list\n",
        "\n",
        "def to_degrees(z):\n",
        "  return np.degrees(np.angle(z) + 2 * pi) % 360\n",
        "\n",
        "def class_definder(coordinate):\n",
        "  answer = to_degrees(coordinate)\n",
        "  if answer >= 0 and answer < 90:\n",
        "    return 1+1j\n",
        "  elif answer >= 90 and answer < 180:\n",
        "    return -1+1j\n",
        "  elif answer >= 180 and answer < 270:\n",
        "    return -1-1j\n",
        "  else :\n",
        "    return 1-1j\n",
        "\n",
        "def predict(X, w):\n",
        "  coordinate = np.dot(X, w)\n",
        "  y = list(map(lambda x: class_definder(x), coordinate))\n",
        "  y_coordinate = list(map(lambda x: to_degrees(x), coordinate))\n",
        "  return y, coordinate\n",
        "\n",
        "\n"
      ],
      "execution_count": null,
      "outputs": []
    },
    {
      "cell_type": "code",
      "metadata": {
        "id": "PTtEmjTREnw-"
      },
      "source": [
        "w_list = []\n",
        "a = gradient_descent(X_train, y_train, w, 10000, w_list)\n"
      ],
      "execution_count": null,
      "outputs": []
    },
    {
      "cell_type": "code",
      "metadata": {
        "colab": {
          "base_uri": "https://localhost:8080/",
          "height": 282
        },
        "id": "zKQl2pEJIcry",
        "outputId": "db41b260-5a13-458f-e016-29414ed1665a"
      },
      "source": [
        "plt.scatter(np.real(a)[:, 0], np.real(a)[:, 1])\n",
        "plt.plot(np.real(a)[:, 0], np.real(a)[:, 1])"
      ],
      "execution_count": null,
      "outputs": [
        {
          "output_type": "execute_result",
          "data": {
            "text/plain": [
              "[<matplotlib.lines.Line2D at 0x7f46483e7990>]"
            ]
          },
          "metadata": {},
          "execution_count": 13
        },
        {
          "output_type": "display_data",
          "data": {
            "image/png": "[encoded data removed]",
            "text/plain": [
              "<Figure size 432x288 with 1 Axes>"
            ]
          },
          "metadata": {
            "needs_background": "light"
          }
        }
      ]
    },
    {
      "cell_type": "code",
      "metadata": {
        "colab": {
          "base_uri": "https://localhost:8080/",
          "height": 282
        },
        "id": "x4IcQDNDJGs3",
        "outputId": "1e52a30e-d618-4a52-a38c-4d16a844ed96"
      },
      "source": [
        "plt.scatter(np.imag(a)[:, 0], np.imag(a)[:, 1])\n",
        "plt.plot(np.imag(a)[:, 0], np.imag(a)[:, 1])"
      ],
      "execution_count": null,
      "outputs": [
        {
          "output_type": "execute_result",
          "data": {
            "text/plain": [
              "[<matplotlib.lines.Line2D at 0x7f464841ea10>]"
            ]
          },
          "metadata": {},
          "execution_count": 14
        },
        {
          "output_type": "display_data",
          "data": {
            "image/png": "[encoded data removed]",
            "text/plain": [
              "<Figure size 432x288 with 1 Axes>"
            ]
          },
          "metadata": {
            "needs_background": "light"
          }
        }
      ]
    },
    {
      "cell_type": "code",
      "metadata": {
        "id": "jNf-PA1cgSWk"
      },
      "source": [
        "w = a[-1]\n",
        "y, y_c = predict(X_test, w)"
      ],
      "execution_count": null,
      "outputs": []
    },
    {
      "cell_type": "code",
      "metadata": {
        "colab": {
          "base_uri": "https://localhost:8080/",
          "height": 370
        },
        "id": "MFpTcGFjqm-z",
        "outputId": "121b7d16-d561-446e-e113-2d49873535bc"
      },
      "source": [
        "sns.scatterplot(np.real(y_c), np.imag(y_c))\n",
        "sns.scatterplot(np.real(y_test), np.imag(y_test))\n",
        "#np.real(y)"
      ],
      "execution_count": null,
      "outputs": [
        {
          "output_type": "stream",
          "name": "stderr",
          "text": [
            "/usr/local/lib/python3.7/dist-packages/seaborn/_decorators.py:43: FutureWarning: Pass the following variables as keyword args: x, y. From version 0.12, the only valid positional argument will be `data`, and passing other arguments without an explicit keyword will result in an error or misinterpretation.\n",
            "  FutureWarning\n",
            "/usr/local/lib/python3.7/dist-packages/seaborn/_decorators.py:43: FutureWarning: Pass the following variables as keyword args: x, y. From version 0.12, the only valid positional argument will be `data`, and passing other arguments without an explicit keyword will result in an error or misinterpretation.\n",
            "  FutureWarning\n"
          ]
        },
        {
          "output_type": "execute_result",
          "data": {
            "text/plain": [
              "<matplotlib.axes._subplots.AxesSubplot at 0x7f464762a750>"
            ]
          },
          "metadata": {},
          "execution_count": 18
        },
        {
          "output_type": "display_data",
          "data": {
            "image/png": "[encoded data removed]",
            "text/plain": [
              "<Figure size 432x288 with 1 Axes>"
            ]
          },
          "metadata": {
            "needs_background": "light"
          }
        }
      ]
    },
    {
      "cell_type": "code",
      "metadata": {
        "colab": {
          "base_uri": "https://localhost:8080/"
        },
        "id": "YQqsrWVLpXyw",
        "outputId": "62a6101c-cd71-4e22-afbf-1a52946922f0"
      },
      "source": [
        "accuracy = np.where(y_test - y == 0+0j)\n",
        "len(accuracy[0]) # 74 правильных ответа из 300)))))"
      ],
      "execution_count": null,
      "outputs": [
        {
          "output_type": "execute_result",
          "data": {
            "text/plain": [
              "74"
            ]
          },
          "metadata": {},
          "execution_count": 22
        }
      ]
    },
    {
      "cell_type": "code",
      "metadata": {
        "colab": {
          "base_uri": "https://localhost:8080/"
        },
        "id": "0qC6umDeqsAv",
        "outputId": "6023d326-2fb2-4933-e9cb-37b2b78c8fea"
      },
      "source": [
        "np.unique(y - y_test)"
      ],
      "execution_count": null,
      "outputs": [
        {
          "output_type": "execute_result",
          "data": {
            "text/plain": [
              "array([-2.-2.j, -2.+0.j, -2.+2.j,  0.-2.j,  0.+0.j,  0.+2.j,  2.-2.j,\n",
              "        2.+0.j,  2.+2.j])"
            ]
          },
          "metadata": {},
          "execution_count": 20
        }
      ]
    },
    {
      "cell_type": "code",
      "metadata": {
        "id": "gJAkAj09FqAu"
      },
      "source": [
        "# попробовать через экспоненту"
      ],
      "execution_count": null,
      "outputs": []
    }
  ]
}